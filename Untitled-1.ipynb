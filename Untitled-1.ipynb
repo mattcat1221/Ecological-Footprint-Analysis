{
 "cells": [
  {
   "cell_type": "code",
   "execution_count": 6,
   "metadata": {},
   "outputs": [
    {
     "name": "stdout",
     "output_type": "stream",
     "text": [
      "[(0, 'Afghanistan', 'Middle East/Central Asia', '52.5', '62', '0.48', None, 'LI', '40.8', 0.4, 0.1, 0.1, 0.2, 0.0, 0.028232273, 0.8, 0.3, 0.1, 0.012981282, 0.000565167, 0.513827024, -0.287637599, 0.530695582, 1.559794611), (1, 'Albania', 'Other Europe', '71.6', '76', '0.8', '$14,889 ', 'UM', '2.9', 0.8, 0.2, 0.2, 0.7, 0.0, 0.073005587, 2.1, 0.6, 0.2, 0.223326157, 0.081391904, 1.176752316, -0.894486045, 1.37148542, 1.760131111), (2, 'Algeria', 'Africa', '71.5', '76', '0.75', '$11,137 ', 'UM', '45.4', 0.7, 0.2, 0.1, 1.2, 0.0, 0.037775208, 2.2, 0.4, 0.2, 0.023911707, 0.007179154, 0.663374969, -1.559593496, 1.471954604, 3.350998407), (3, 'Angola', 'Africa', '50.9', '62', '0.59', '$6,304 ', 'LM', '35', 0.2, 0.1, 0.1, 0.3, 0.1, 0.061359798, 0.9, 0.2, 0.8, 0.416887822, 0.153498781, 1.588191242, 0.730345635, 0.568028656, 0.540139993), (4, 'Antigua and Barbuda', 'Central America/Caribbean', None, '78', '0.79', '$18,749 ', 'HI', '0.1', None, None, None, None, None, None, 2.9, None, None, None, None, 0.917277482, -2.01945766, 1.944580357, 3.201577712)]\n"
     ]
    }
   ],
   "source": [
    "import pandas as pd\n",
    "import sqlite3\n",
    "\n",
    "# Path to the CSV file\n",
    "csv_path = 'Resources/clean_data.csv'\n",
    "\n",
    "# Path to the SQLite database file\n",
    "db_path = 'Global_Ecological_Footprint.db'\n",
    "\n",
    "# Load the CSV file into a pandas DataFrame\n",
    "csv_data = pd.read_csv(csv_path)\n",
    "\n",
    "# Define the new table name\n",
    "new_table_name = 'ecological_footprint_by_country'\n",
    "\n",
    "# Connect to the SQLite database\n",
    "conn = sqlite3.connect(db_path)\n",
    "cursor = conn.cursor()\n",
    "\n",
    "# Create the new table\n",
    "cursor.execute(f\"\"\"\n",
    "CREATE TABLE IF NOT EXISTS {new_table_name} (\n",
    "    Country TEXT,\n",
    "    Ecological_Footprint REAL\n",
    ");\n",
    "\"\"\")\n",
    "\n",
    "# Insert the data from the CSV file into the new table\n",
    "csv_data.to_sql(new_table_name, conn, if_exists='replace', index=False)\n",
    "\n",
    "# Commit the changes and close the connection\n",
    "conn.commit()\n",
    "\n",
    "# Verify that the data has been inserted correctly by retrieving the first few rows\n",
    "cursor.execute(f\"SELECT * FROM {new_table_name} LIMIT 5;\")\n",
    "new_table_sample_data = cursor.fetchall()\n",
    "\n",
    "# Close the connection\n",
    "conn.close()\n",
    "\n",
    "# Display the first few rows of the new table\n",
    "print(new_table_sample_data)\n"
   ]
  },
  {
   "cell_type": "code",
   "execution_count": 7,
   "metadata": {},
   "outputs": [
    {
     "name": "stderr",
     "output_type": "stream",
     "text": [
      "Warning: node ecological_footprint.Unnamed, port  0 unrecognized\n",
      "Warning: node ecological_footprint_by_country.Unnamed, port  0 unrecognized\n"
     ]
    },
    {
     "data": {
      "text/plain": [
       "'erd_diagram_with_relationships.svg'"
      ]
     },
     "execution_count": 7,
     "metadata": {},
     "output_type": "execute_result"
    }
   ],
   "source": [
    "import sqlite3\n",
    "from graphviz import Digraph\n",
    "\n",
    "# Path to the SQLite database file\n",
    "db_path = '/Users/cmatthews/Desktop/Data-Analyst/Projects/Ecological-Footprint-Analysis/Global_Ecological_Footprint.db'\n",
    "\n",
    "# Connect to the SQLite database\n",
    "conn = sqlite3.connect(db_path)\n",
    "cursor = conn.cursor()\n",
    "\n",
    "# Retrieve the list of tables\n",
    "cursor.execute(\"SELECT name FROM sqlite_master WHERE type='table';\")\n",
    "tables = cursor.fetchall()\n",
    "\n",
    "# Create a Digraph object with increased size and resolution\n",
    "dot = Digraph(graph_attr={'size': '40,40!', 'dpi': '300', 'ratio': 'fill'})\n",
    "\n",
    "# Add tables and their columns to the Digraph\n",
    "for table_name in tables:\n",
    "    table_name = table_name[0]\n",
    "    dot.node(table_name, table_name)\n",
    "    \n",
    "    # Retrieve the columns of the table\n",
    "    cursor.execute(f\"PRAGMA table_info({table_name});\")\n",
    "    columns = cursor.fetchall()\n",
    "    \n",
    "    for column in columns:\n",
    "        column_name = column[1]\n",
    "        dot.node(f\"{table_name}.{column_name}\", f\"{table_name}.{column_name}\")\n",
    "        dot.edge(table_name, f\"{table_name}.{column_name}\")\n",
    "\n",
    "    # Retrieve foreign key constraints to add relationships\n",
    "    cursor.execute(f\"PRAGMA foreign_key_list({table_name});\")\n",
    "    foreign_keys = cursor.fetchall()\n",
    "    \n",
    "    for fk in foreign_keys:\n",
    "        from_column = fk[3]  # The column in the current table\n",
    "        to_table = fk[2]     # The referenced table\n",
    "        to_column = fk[4]    # The referenced column\n",
    "        dot.edge(f\"{table_name}.{from_column}\", f\"{to_table}.{to_column}\")\n",
    "\n",
    "# Close the connection\n",
    "conn.close()\n",
    "\n",
    "# Render and save the ERD diagram as an SVG file\n",
    "dot.render('erd_diagram_with_relationships', format='svg', view=True)"
   ]
  },
  {
   "cell_type": "code",
   "execution_count": 3,
   "metadata": {},
   "outputs": [
    {
     "name": "stderr",
     "output_type": "stream",
     "text": [
      "Warning: node ecological_footprint.Unnamed, port  0 unrecognized\n",
      "Warning: node ecological_footprint_by_country.Unnamed, port  0 unrecognized\n"
     ]
    },
    {
     "data": {
      "text/plain": [
       "'erd_diagram_with_relationships.svg'"
      ]
     },
     "execution_count": 3,
     "metadata": {},
     "output_type": "execute_result"
    }
   ],
   "source": [
    "import sqlite3\n",
    "from graphviz import Digraph\n",
    "\n",
    "# Path to the SQLite database file\n",
    "db_path = '/Users/cmatthews/Desktop/Data-Analyst/Projects/Ecological-Footprint-Analysis/Global_Ecological_Footprint.db'\n",
    "\n",
    "# Connect to the SQLite database\n",
    "conn = sqlite3.connect(db_path)\n",
    "cursor = conn.cursor()\n",
    "\n",
    "# Retrieve the list of tables\n",
    "cursor.execute(\"SELECT name FROM sqlite_master WHERE type='table';\")\n",
    "tables = cursor.fetchall()\n",
    "\n",
    "# Create a Digraph object with increased size and resolution\n",
    "dot = Digraph(graph_attr={'size': '20,20!', 'dpi': '300', 'ratio': 'fill'})\n",
    "\n",
    "# Add tables and their columns to the Digraph\n",
    "for table_name in tables:\n",
    "    table_name = table_name[0]\n",
    "    dot.node(table_name, table_name, shape='box')\n",
    "    \n",
    "    # Retrieve the columns of the table\n",
    "    cursor.execute(f\"PRAGMA table_info({table_name});\")\n",
    "    columns = cursor.fetchall()\n",
    "    \n",
    "    for column in columns:\n",
    "        column_name = column[1]\n",
    "        dot.node(f\"{table_name}.{column_name}\", f\"{table_name}.{column_name}\", shape='ellipse')\n",
    "        dot.edge(table_name, f\"{table_name}.{column_name}\")\n",
    "\n",
    "# Add relationships based on foreign key constraints\n",
    "for table_name in tables:\n",
    "    table_name = table_name[0]\n",
    "    cursor.execute(f\"PRAGMA foreign_key_list({table_name});\")\n",
    "    foreign_keys = cursor.fetchall()\n",
    "    \n",
    "    for fk in foreign_keys:\n",
    "        from_column = fk[3]  # The column in the current table\n",
    "        to_table = fk[2]     # The referenced table\n",
    "        to_column = fk[4]    # The referenced column\n",
    "        dot.edge(f\"{table_name}.{from_column}\", f\"{to_table}.{to_column}\", label=\"fk\")\n",
    "\n",
    "# Close the connection\n",
    "conn.close()\n",
    "\n",
    "# Render and save the ERD diagram as an SVG file\n",
    "dot.render('erd_diagram_with_relationships', format='svg', view=True)\n"
   ]
  },
  {
   "cell_type": "code",
   "execution_count": 8,
   "metadata": {},
   "outputs": [
    {
     "name": "stderr",
     "output_type": "stream",
     "text": [
      "Warning: node ecological_footprint.Unnamed, port  0 unrecognized\n",
      "Warning: node ecological_footprint_by_country.Unnamed, port  0 unrecognized\n"
     ]
    },
    {
     "name": "stdout",
     "output_type": "stream",
     "text": [
      "Tables found: [('ecological_footprint',), ('ecological_footprint_by_country',)]\n",
      "Columns in table ecological_footprint: [(0, 'Unnamed: 0', 'BIGINT', 0, None, 0), (1, 'Country', 'TEXT', 0, None, 0), (2, 'Region', 'TEXT', 0, None, 0), (3, 'SDGi', 'FLOAT', 0, None, 0), (4, 'Life Expectancy', 'FLOAT', 0, None, 0), (5, 'HDI', 'FLOAT', 0, None, 0), (6, 'Per Capita GDP', 'FLOAT', 0, None, 0), (7, 'Income Group', 'TEXT', 0, None, 0), (8, 'Population (millions)', 'FLOAT', 0, None, 0), (9, 'Cropland Footprint', 'FLOAT', 0, None, 0), (10, 'Grazing Footprint', 'FLOAT', 0, None, 0), (11, 'Forest Product Footprint', 'FLOAT', 0, None, 0), (12, 'Carbon Footprint', 'FLOAT', 0, None, 0), (13, 'Fish Footprint', 'FLOAT', 0, None, 0), (14, 'Built up land', 'FLOAT', 0, None, 0), (15, 'Total Ecological Footprint (Consumption)', 'FLOAT', 0, None, 0), (16, 'Cropland', 'FLOAT', 0, None, 0), (17, 'Grazing land', 'FLOAT', 0, None, 0), (18, 'Forest land', 'FLOAT', 0, None, 0), (19, 'Fishing ground', 'FLOAT', 0, None, 0), (20, 'Total biocapacity', 'FLOAT', 0, None, 0), (21, 'Ecological (Deficit) or Reserve', 'FLOAT', 0, None, 0), (22, 'Number of Earths required', 'FLOAT', 0, None, 0), (23, 'Number of Countries required', 'FLOAT', 0, None, 0)]\n",
      "Columns in table ecological_footprint_by_country: [(0, 'Unnamed: 0', 'INTEGER', 0, None, 0), (1, 'Country', 'TEXT', 0, None, 0), (2, 'Region', 'TEXT', 0, None, 0), (3, 'SDGi', 'TEXT', 0, None, 0), (4, 'Life Exectancy', 'TEXT', 0, None, 0), (5, 'HDI', 'TEXT', 0, None, 0), (6, 'Per Capita GDP', 'TEXT', 0, None, 0), (7, 'Income Group', 'TEXT', 0, None, 0), (8, 'Population (millions)', 'TEXT', 0, None, 0), (9, 'Cropland Footprint', 'REAL', 0, None, 0), (10, 'Grazing Footprint', 'REAL', 0, None, 0), (11, 'Forest Product Footprint', 'REAL', 0, None, 0), (12, 'Carbon Footprint', 'REAL', 0, None, 0), (13, 'Fish Footprint', 'REAL', 0, None, 0), (14, 'Built up land', 'REAL', 0, None, 0), (15, 'Total Ecological Footprint (Consumption)', 'REAL', 0, None, 0), (16, 'Cropland', 'REAL', 0, None, 0), (17, 'Grazing land', 'REAL', 0, None, 0), (18, 'Forest land', 'REAL', 0, None, 0), (19, 'Fishing ground', 'REAL', 0, None, 0), (20, 'Total biocapacity ', 'REAL', 0, None, 0), (21, 'Ecological (Deficit) or Reserve', 'REAL', 0, None, 0), (22, 'Number of Earths required', 'REAL', 0, None, 0), (23, 'Number of Countries required', 'REAL', 0, None, 0)]\n",
      "Foreign keys in table ecological_footprint: []\n",
      "Foreign keys in table ecological_footprint_by_country: []\n"
     ]
    },
    {
     "data": {
      "text/plain": [
       "'/Users/cmatthews/Desktop/Data-Analyst/Projects/Ecological-Footprint-Analysis/erd_diagram_with_relationships.svg'"
      ]
     },
     "execution_count": 8,
     "metadata": {},
     "output_type": "execute_result"
    }
   ],
   "source": [
    "import sqlite3\n",
    "from graphviz import Digraph\n",
    "\n",
    "# Path to the SQLite database file\n",
    "db_path = '/Users/cmatthews/Desktop/Data-Analyst/Projects/Ecological-Footprint-Analysis/Global_Ecological_Footprint.db'\n",
    "\n",
    "# Connect to the SQLite database\n",
    "conn = sqlite3.connect(db_path)\n",
    "cursor = conn.cursor()\n",
    "\n",
    "# Retrieve the list of tables\n",
    "cursor.execute(\"SELECT name FROM sqlite_master WHERE type='table';\")\n",
    "tables = cursor.fetchall()\n",
    "\n",
    "# Print the list of tables for debugging\n",
    "print(\"Tables found:\", tables)\n",
    "\n",
    "# Create a Digraph object with increased size and resolution\n",
    "dot = Digraph(graph_attr={'size': '40,40!', 'dpi': '300', 'ratio': 'fill'})\n",
    "\n",
    "# Add tables and their columns to the Digraph\n",
    "for table in tables:\n",
    "    table_name = table[0]\n",
    "    dot.node(table_name, table_name, shape='box')\n",
    "    \n",
    "    # Retrieve the columns of the table\n",
    "    cursor.execute(f\"PRAGMA table_info({table_name});\")\n",
    "    columns = cursor.fetchall()\n",
    "    \n",
    "    # Print columns for debugging\n",
    "    print(f\"Columns in table {table_name}:\", columns)\n",
    "    \n",
    "    for column in columns:\n",
    "        column_name = column[1]\n",
    "        dot.node(f\"{table_name}.{column_name}\", f\"{table_name}.{column_name}\", shape='ellipse')\n",
    "        dot.edge(table_name, f\"{table_name}.{column_name}\")\n",
    "\n",
    "# Add relationships based on foreign key constraints\n",
    "for table in tables:\n",
    "    table_name = table[0]\n",
    "    cursor.execute(f\"PRAGMA foreign_key_list({table_name});\")\n",
    "    foreign_keys = cursor.fetchall()\n",
    "    \n",
    "    # Print foreign keys for debugging\n",
    "    print(f\"Foreign keys in table {table_name}:\", foreign_keys)\n",
    "    \n",
    "    for fk in foreign_keys:\n",
    "        from_column = fk[3]  # The column in the current table\n",
    "        to_table = fk[2]     # The referenced table\n",
    "        to_column = fk[4]    # The referenced column\n",
    "        dot.edge(f\"{table_name}.{from_column}\", f\"{to_table}.{to_column}\", label=\"fk\")\n",
    "\n",
    "# Close the connection\n",
    "conn.close()\n",
    "\n",
    "# Render and save the ERD diagram as an SVG file\n",
    "dot.render('/Users/cmatthews/Desktop/Data-Analyst/Projects/Ecological-Footprint-Analysis/erd_diagram_with_relationships', format='svg', view=True)\n"
   ]
  },
  {
   "cell_type": "code",
   "execution_count": 9,
   "metadata": {},
   "outputs": [
    {
     "name": "stdout",
     "output_type": "stream",
     "text": [
      "Adding table: ecological_footprint\n",
      "Adding column: Unnamed: 0 to table: ecological_footprint\n",
      "Adding column: Country to table: ecological_footprint\n",
      "Adding column: Region to table: ecological_footprint\n",
      "Adding column: SDGi to table: ecological_footprint\n",
      "Adding column: Life Expectancy to table: ecological_footprint\n",
      "Adding column: HDI to table: ecological_footprint\n",
      "Adding column: Per Capita GDP to table: ecological_footprint\n",
      "Adding column: Income Group to table: ecological_footprint\n",
      "Adding column: Population (millions) to table: ecological_footprint\n",
      "Adding column: Cropland Footprint to table: ecological_footprint\n",
      "Adding column: Grazing Footprint to table: ecological_footprint\n",
      "Adding column: Forest Product Footprint to table: ecological_footprint\n",
      "Adding column: Carbon Footprint to table: ecological_footprint\n",
      "Adding column: Fish Footprint to table: ecological_footprint\n",
      "Adding column: Built up land to table: ecological_footprint\n",
      "Adding column: Total Ecological Footprint (Consumption) to table: ecological_footprint\n",
      "Adding column: Cropland to table: ecological_footprint\n",
      "Adding column: Grazing land to table: ecological_footprint\n",
      "Adding column: Forest land to table: ecological_footprint\n",
      "Adding column: Fishing ground to table: ecological_footprint\n",
      "Adding column: Total biocapacity to table: ecological_footprint\n",
      "Adding column: Ecological (Deficit) or Reserve to table: ecological_footprint\n",
      "Adding column: Number of Earths required to table: ecological_footprint\n",
      "Adding column: Number of Countries required to table: ecological_footprint\n",
      "Adding table: ecological_footprint_by_country\n",
      "Adding column: Unnamed: 0 to table: ecological_footprint_by_country\n",
      "Adding column: Country to table: ecological_footprint_by_country\n",
      "Adding column: Region to table: ecological_footprint_by_country\n",
      "Adding column: SDGi to table: ecological_footprint_by_country\n",
      "Adding column: Life Exectancy to table: ecological_footprint_by_country\n",
      "Adding column: HDI to table: ecological_footprint_by_country\n",
      "Adding column: Per Capita GDP to table: ecological_footprint_by_country\n",
      "Adding column: Income Group to table: ecological_footprint_by_country\n",
      "Adding column: Population (millions) to table: ecological_footprint_by_country\n",
      "Adding column: Cropland Footprint to table: ecological_footprint_by_country\n",
      "Adding column: Grazing Footprint to table: ecological_footprint_by_country\n",
      "Adding column: Forest Product Footprint to table: ecological_footprint_by_country\n",
      "Adding column: Carbon Footprint to table: ecological_footprint_by_country\n",
      "Adding column: Fish Footprint to table: ecological_footprint_by_country\n",
      "Adding column: Built up land to table: ecological_footprint_by_country\n",
      "Adding column: Total Ecological Footprint (Consumption) to table: ecological_footprint_by_country\n",
      "Adding column: Cropland to table: ecological_footprint_by_country\n",
      "Adding column: Grazing land to table: ecological_footprint_by_country\n",
      "Adding column: Forest land to table: ecological_footprint_by_country\n",
      "Adding column: Fishing ground to table: ecological_footprint_by_country\n",
      "Adding column: Total biocapacity  to table: ecological_footprint_by_country\n",
      "Adding column: Ecological (Deficit) or Reserve to table: ecological_footprint_by_country\n",
      "Adding column: Number of Earths required to table: ecological_footprint_by_country\n",
      "Adding column: Number of Countries required to table: ecological_footprint_by_country\n"
     ]
    },
    {
     "name": "stderr",
     "output_type": "stream",
     "text": [
      "Warning: node ecological_footprint.Unnamed, port  0 unrecognized\n",
      "Warning: node ecological_footprint_by_country.Unnamed, port  0 unrecognized\n"
     ]
    },
    {
     "data": {
      "text/plain": [
       "'/Users/cmatthews/Desktop/Data-Analyst/Projects/Ecological-Footprint-Analysis/erd_diagram_with_relationships.svg'"
      ]
     },
     "execution_count": 9,
     "metadata": {},
     "output_type": "execute_result"
    }
   ],
   "source": [
    "import sqlite3\n",
    "from graphviz import Digraph\n",
    "\n",
    "# Path to the SQLite database file\n",
    "db_path = '/Users/cmatthews/Desktop/Data-Analyst/Projects/Ecological-Footprint-Analysis/Global_Ecological_Footprint.db'\n",
    "\n",
    "# Connect to the SQLite database\n",
    "conn = sqlite3.connect(db_path)\n",
    "cursor = conn.cursor()\n",
    "\n",
    "# Retrieve the list of tables\n",
    "cursor.execute(\"SELECT name FROM sqlite_master WHERE type='table';\")\n",
    "tables = cursor.fetchall()\n",
    "\n",
    "# Create a Digraph object with increased size and resolution\n",
    "dot = Digraph(graph_attr={'size': '40,40!', 'dpi': '300', 'ratio': 'fill'})\n",
    "\n",
    "# Add tables and their columns to the Digraph\n",
    "for table in tables:\n",
    "    table_name = table[0]\n",
    "    print(f\"Adding table: {table_name}\")\n",
    "    dot.node(table_name, label=table_name, shape='box')\n",
    "    \n",
    "    # Retrieve the columns of the table\n",
    "    cursor.execute(f\"PRAGMA table_info({table_name});\")\n",
    "    columns = cursor.fetchall()\n",
    "    \n",
    "    for column in columns:\n",
    "        column_name = column[1]\n",
    "        print(f\"Adding column: {column_name} to table: {table_name}\")\n",
    "        dot.node(f\"{table_name}.{column_name}\", label=column_name, shape='ellipse')\n",
    "        dot.edge(table_name, f\"{table_name}.{column_name}\")\n",
    "\n",
    "# Add relationships based on foreign key constraints\n",
    "for table in tables:\n",
    "    table_name = table[0]\n",
    "    cursor.execute(f\"PRAGMA foreign_key_list({table_name});\")\n",
    "    foreign_keys = cursor.fetchall()\n",
    "    \n",
    "    for fk in foreign_keys:\n",
    "        from_column = fk[3]  # The column in the current table\n",
    "        to_table = fk[2]     # The referenced table\n",
    "        to_column = fk[4]    # The referenced column\n",
    "        print(f\"Adding foreign key from {table_name}.{from_column} to {to_table}.{to_column}\")\n",
    "        dot.edge(f\"{table_name}.{from_column}\", f\"{to_table}.{to_column}\", label=\"fk\")\n",
    "\n",
    "# Close the connection\n",
    "conn.close()\n",
    "\n",
    "# Render and save the ERD diagram as an SVG file\n",
    "dot.render('/Users/cmatthews/Desktop/Data-Analyst/Projects/Ecological-Footprint-Analysis/erd_diagram_with_relationships', format='svg', view=True)\n"
   ]
  },
  {
   "cell_type": "code",
   "execution_count": 10,
   "metadata": {},
   "outputs": [
    {
     "name": "stderr",
     "output_type": "stream",
     "text": [
      "Warning: node ecological_footprint.Unnamed, port  0 unrecognized\n",
      "Warning: node ecological_footprint_by_country.Unnamed, port  0 unrecognized\n"
     ]
    },
    {
     "data": {
      "text/plain": [
       "'/Users/cmatthews/Desktop/Data-Analyst/Projects/Ecological-Footprint-Analysis/erd_diagram_with_relationships.svg'"
      ]
     },
     "execution_count": 10,
     "metadata": {},
     "output_type": "execute_result"
    }
   ],
   "source": [
    "import sqlite3\n",
    "from graphviz import Digraph\n",
    "\n",
    "# Path to the SQLite database file\n",
    "db_path = '/Users/cmatthews/Desktop/Data-Analyst/Projects/Ecological-Footprint-Analysis/Global_Ecological_Footprint.db'\n",
    "\n",
    "# Connect to the SQLite database\n",
    "conn = sqlite3.connect(db_path)\n",
    "cursor = conn.cursor()\n",
    "\n",
    "# Retrieve the list of tables\n",
    "cursor.execute(\"SELECT name FROM sqlite_master WHERE type='table';\")\n",
    "tables = cursor.fetchall()\n",
    "\n",
    "# Create a Digraph object with increased size and resolution\n",
    "dot = Digraph(graph_attr={'size': '10,10!', 'dpi': '300', 'ratio': 'compress'})\n",
    "dot.attr(rankdir='LR', ranksep='2')\n",
    "\n",
    "# Add tables and their columns to the Digraph\n",
    "for table in tables:\n",
    "    table_name = table[0]\n",
    "    with dot.subgraph(name='cluster_' + table_name) as c:\n",
    "        c.attr(label=table_name)\n",
    "        c.node(table_name, shape='box')\n",
    "        \n",
    "        # Retrieve the columns of the table\n",
    "        cursor.execute(f\"PRAGMA table_info({table_name});\")\n",
    "        columns = cursor.fetchall()\n",
    "        \n",
    "        for column in columns:\n",
    "            column_name = column[1]\n",
    "            c.node(f\"{table_name}.{column_name}\", label=column_name, shape='ellipse')\n",
    "            c.edge(table_name, f\"{table_name}.{column_name}\")\n",
    "\n",
    "# Add relationships based on foreign key constraints\n",
    "for table in tables:\n",
    "    table_name = table[0]\n",
    "    cursor.execute(f\"PRAGMA foreign_key_list({table_name});\")\n",
    "    foreign_keys = cursor.fetchall()\n",
    "    \n",
    "    for fk in foreign_keys:\n",
    "        from_column = fk[3]  # The column in the current table\n",
    "        to_table = fk[2]     # The referenced table\n",
    "        to_column = fk[4]    # The referenced column\n",
    "        dot.edge(f\"{table_name}.{from_column}\", f\"{to_table}.{to_column}\", label=\"fk\")\n",
    "\n",
    "# Close the connection\n",
    "conn.close()\n",
    "\n",
    "# Render and save the ERD diagram as an SVG file\n",
    "dot.render('/Users/cmatthews/Desktop/Data-Analyst/Projects/Ecological-Footprint-Analysis/erd_diagram_with_relationships', format='svg', view=True)\n"
   ]
  },
  {
   "cell_type": "code",
   "execution_count": 11,
   "metadata": {},
   "outputs": [
    {
     "name": "stderr",
     "output_type": "stream",
     "text": [
      "Warning: node ecological_footprint.Unnamed, port  0 unrecognized\n",
      "Warning: node ecological_footprint_by_country.Unnamed, port  0 unrecognized\n"
     ]
    },
    {
     "data": {
      "text/plain": [
       "'/Users/cmatthews/Desktop/Data-Analyst/Projects/Ecological-Footprint-Analysis/erd_diagram_with_relationships.svg'"
      ]
     },
     "execution_count": 11,
     "metadata": {},
     "output_type": "execute_result"
    }
   ],
   "source": [
    "import sqlite3\n",
    "from graphviz import Digraph\n",
    "\n",
    "# Path to the SQLite database file\n",
    "db_path = '/Users/cmatthews/Desktop/Data-Analyst/Projects/Ecological-Footprint-Analysis/Global_Ecological_Footprint.db'\n",
    "\n",
    "# Connect to the SQLite database\n",
    "conn = sqlite3.connect(db_path)\n",
    "cursor = conn.cursor()\n",
    "\n",
    "# Retrieve the list of tables\n",
    "cursor.execute(\"SELECT name FROM sqlite_master WHERE type='table';\")\n",
    "tables = cursor.fetchall()\n",
    "\n",
    "# Create a Digraph object with a more compact size and top-to-bottom orientation\n",
    "dot = Digraph(graph_attr={'size': '12,12!', 'dpi': '150', 'ratio': 'compress'})\n",
    "dot.attr(rankdir='TB', ranksep='1', nodesep='0.5')\n",
    "\n",
    "# Add tables and their columns to the Digraph\n",
    "for table in tables:\n",
    "    table_name = table[0]\n",
    "    with dot.subgraph(name='cluster_' + table_name) as c:\n",
    "        c.attr(label=table_name, shape='box', style='filled', color='lightgrey')\n",
    "        c.node(table_name, shape='box', style='filled', color='lightgrey')\n",
    "        \n",
    "        # Retrieve the columns of the table\n",
    "        cursor.execute(f\"PRAGMA table_info({table_name});\")\n",
    "        columns = cursor.fetchall()\n",
    "        \n",
    "        for column in columns:\n",
    "            column_name = column[1]\n",
    "            c.node(f\"{table_name}.{column_name}\", label=column_name, shape='ellipse')\n",
    "            c.edge(table_name, f\"{table_name}.{column_name}\")\n",
    "\n",
    "# Add relationships based on foreign key constraints\n",
    "for table in tables:\n",
    "    table_name = table[0]\n",
    "    cursor.execute(f\"PRAGMA foreign_key_list({table_name});\")\n",
    "    foreign_keys = cursor.fetchall()\n",
    "    \n",
    "    for fk in foreign_keys:\n",
    "        from_column = fk[3]  # The column in the current table\n",
    "        to_table = fk[2]     # The referenced table\n",
    "        to_column = fk[4]    # The referenced column\n",
    "        dot.edge(f\"{table_name}.{from_column}\", f\"{to_table}.{to_column}\", label=\"fk\")\n",
    "\n",
    "# Close the connection\n",
    "conn.close()\n",
    "\n",
    "# Render and save the ERD diagram as an SVG file\n",
    "dot.render('/Users/cmatthews/Desktop/Data-Analyst/Projects/Ecological-Footprint-Analysis/erd_diagram_with_relationships', format='svg', view=True)\n"
   ]
  },
  {
   "cell_type": "code",
   "execution_count": 13,
   "metadata": {},
   "outputs": [
    {
     "name": "stderr",
     "output_type": "stream",
     "text": [
      "Warning: node ecological_footprint.Unnamed, port  0 unrecognized\n",
      "Warning: node ecological_footprint_by_country.Unnamed, port  0 unrecognized\n"
     ]
    },
    {
     "data": {
      "text/plain": [
       "'/Users/cmatthews/Desktop/Data-Analyst/Projects/Ecological-Footprint-Analysis/erd_diagram_with_relationships.svg'"
      ]
     },
     "execution_count": 13,
     "metadata": {},
     "output_type": "execute_result"
    }
   ],
   "source": [
    "import sqlite3\n",
    "from graphviz import Digraph\n",
    "\n",
    "# Path to the SQLite database file\n",
    "db_path = '/Users/cmatthews/Desktop/Data-Analyst/Projects/Ecological-Footprint-Analysis/Global_Ecological_Footprint.db'\n",
    "\n",
    "# Connect to the SQLite database\n",
    "conn = sqlite3.connect(db_path)\n",
    "cursor = conn.cursor()\n",
    "\n",
    "# Retrieve the list of tables\n",
    "cursor.execute(\"SELECT name FROM sqlite_master WHERE type='table';\")\n",
    "tables = cursor.fetchall()\n",
    "\n",
    "# Create a Digraph object with settings for a more compact layout\n",
    "dot = Digraph(graph_attr={'dpi': '150', 'ratio': 'compress'})\n",
    "dot.attr(rankdir='TB', ranksep='1', nodesep='0.5')\n",
    "\n",
    "# Add tables and their columns to the Digraph\n",
    "for table in tables:\n",
    "    table_name = table[0]\n",
    "    with dot.subgraph(name='cluster_' + table_name) as c:\n",
    "        c.attr(label=table_name, shape='box', style='filled', color='lightgrey')\n",
    "        c.node(table_name, shape='box', style='filled', color='lightgrey')\n",
    "        \n",
    "        # Retrieve the columns of the table\n",
    "        cursor.execute(f\"PRAGMA table_info({table_name});\")\n",
    "        columns = cursor.fetchall()\n",
    "        \n",
    "        for column in columns:\n",
    "            column_name = column[1]\n",
    "            c.node(f\"{table_name}.{column_name}\", label=column_name, shape='ellipse')\n",
    "            c.edge(table_name, f\"{table_name}.{column_name}\")\n",
    "\n",
    "# Add relationships based on foreign key constraints\n",
    "for table in tables:\n",
    "    table_name = table[0]\n",
    "    cursor.execute(f\"PRAGMA foreign_key_list({table_name});\")\n",
    "    foreign_keys = cursor.fetchall()\n",
    "    \n",
    "    for fk in foreign_keys:\n",
    "        from_column = fk[3]  # The column in the current table\n",
    "        to_table = fk[2]     # The referenced table\n",
    "        to_column = fk[4]    # The referenced column\n",
    "        dot.edge(f\"{table_name}.{from_column}\", f\"{to_table}.{to_column}\", label=\"fk\")\n",
    "\n",
    "# Adjust size based on the number of tables and columns\n",
    "table_count = len(tables)\n",
    "max_columns = 0\n",
    "for table in tables:\n",
    "    cursor.execute(f\"PRAGMA table_info({table[0]});\")\n",
    "    columns = cursor.fetchall()\n",
    "    if len(columns) > max_columns:\n",
    "        max_columns = len(columns)\n",
    "\n",
    "width = max(10, table_count * 2)\n",
    "height = max(10, max_columns * 2)\n",
    "\n",
    "# Set the size attribute\n",
    "dot.attr(size=f'{width},{height}!')\n",
    "\n",
    "# Close the connection\n",
    "conn.close()\n",
    "\n",
    "# Render and save the ERD diagram as an SVG file\n",
    "dot.render('/Users/cmatthews/Desktop/Data-Analyst/Projects/Ecological-Footprint-Analysis/erd_diagram_with_relationships', format='svg', view=True)\n",
    "\n"
   ]
  },
  {
   "cell_type": "code",
   "execution_count": 14,
   "metadata": {},
   "outputs": [
    {
     "name": "stderr",
     "output_type": "stream",
     "text": [
      "Warning: node ecological_footprint.Unnamed, port  0 unrecognized\n",
      "Warning: node ecological_footprint_by_country.Unnamed, port  0 unrecognized\n"
     ]
    },
    {
     "data": {
      "text/plain": [
       "'/Users/cmatthews/Desktop/Data-Analyst/Projects/Ecological-Footprint-Analysis/erd_diagram_with_relationships.svg'"
      ]
     },
     "execution_count": 14,
     "metadata": {},
     "output_type": "execute_result"
    }
   ],
   "source": [
    "import sqlite3\n",
    "from graphviz import Digraph\n",
    "\n",
    "# Path to the SQLite database file\n",
    "db_path = '/Users/cmatthews/Desktop/Data-Analyst/Projects/Ecological-Footprint-Analysis/Global_Ecological_Footprint.db'\n",
    "\n",
    "# Connect to the SQLite database\n",
    "conn = sqlite3.connect(db_path)\n",
    "cursor = conn.cursor()\n",
    "\n",
    "# Retrieve the list of tables\n",
    "cursor.execute(\"SELECT name FROM sqlite_master WHERE type='table';\")\n",
    "tables = cursor.fetchall()\n",
    "\n",
    "# Create a Digraph object with settings for a more compact layout\n",
    "dot = Digraph(graph_attr={'dpi': '150', 'ratio': 'compress', 'splines': 'true', 'overlap': 'false'})\n",
    "dot.attr(rankdir='TB', ranksep='1', nodesep='0.5')\n",
    "\n",
    "# Add tables and their columns to the Digraph\n",
    "for table in tables:\n",
    "    table_name = table[0]\n",
    "    with dot.subgraph(name='cluster_' + table_name) as c:\n",
    "        c.attr(label=table_name, shape='box', style='filled', color='lightgrey')\n",
    "        c.node(table_name, shape='box', style='filled', color='lightgrey')\n",
    "        \n",
    "        # Retrieve the columns of the table\n",
    "        cursor.execute(f\"PRAGMA table_info({table_name});\")\n",
    "        columns = cursor.fetchall()\n",
    "        \n",
    "        for column in columns:\n",
    "            column_name = column[1]\n",
    "            c.node(f\"{table_name}.{column_name}\", label=column_name, shape='ellipse')\n",
    "            c.edge(table_name, f\"{table_name}.{column_name}\")\n",
    "\n",
    "# Add relationships based on foreign key constraints\n",
    "for table in tables:\n",
    "    table_name = table[0]\n",
    "    cursor.execute(f\"PRAGMA foreign_key_list({table_name});\")\n",
    "    foreign_keys = cursor.fetchall()\n",
    "    \n",
    "    for fk in foreign_keys:\n",
    "        from_column = fk[3]  # The column in the current table\n",
    "        to_table = fk[2]     # The referenced table\n",
    "        to_column = fk[4]    # The referenced column\n",
    "        dot.edge(f\"{table_name}.{from_column}\", f\"{to_table}.{to_column}\", label=\"fk\")\n",
    "\n",
    "# Set a fixed size\n",
    "dot.attr(size='10,10!')\n",
    "\n",
    "# Close the connection\n",
    "conn.close()\n",
    "\n",
    "# Render and save the ERD diagram as an SVG file\n",
    "dot.render('/Users/cmatthews/Desktop/Data-Analyst/Projects/Ecological-Footprint-Analysis/erd_diagram_with_relationships', format='svg', view=True)\n"
   ]
  }
 ],
 "metadata": {
  "kernelspec": {
   "display_name": "base",
   "language": "python",
   "name": "python3"
  },
  "language_info": {
   "codemirror_mode": {
    "name": "ipython",
    "version": 3
   },
   "file_extension": ".py",
   "mimetype": "text/x-python",
   "name": "python",
   "nbconvert_exporter": "python",
   "pygments_lexer": "ipython3",
   "version": "3.11.7"
  }
 },
 "nbformat": 4,
 "nbformat_minor": 2
}
