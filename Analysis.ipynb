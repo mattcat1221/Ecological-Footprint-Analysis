{
 "cells": [
  {
   "cell_type": "code",
   "execution_count": 1,
   "id": "31d9d3da-ae5a-4512-b695-e6b75d298a1d",
   "metadata": {},
   "outputs": [],
   "source": [
    "import pandas as pd"
   ]
  },
  {
   "cell_type": "code",
   "execution_count": 4,
   "id": "a395cc78-ba83-4708-b01f-e1f65b52faf1",
   "metadata": {},
   "outputs": [],
   "source": [
    "df = pd.read_csv('Resources/clean_data.csv')"
   ]
  },
  {
   "cell_type": "code",
   "execution_count": 5,
   "id": "32a40ebf-1845-40dc-9f64-fa3adf76e5ae",
   "metadata": {},
   "outputs": [
    {
     "data": {
      "text/html": [
       "<div>\n",
       "<style scoped>\n",
       "    .dataframe tbody tr th:only-of-type {\n",
       "        vertical-align: middle;\n",
       "    }\n",
       "\n",
       "    .dataframe tbody tr th {\n",
       "        vertical-align: top;\n",
       "    }\n",
       "\n",
       "    .dataframe thead th {\n",
       "        text-align: right;\n",
       "    }\n",
       "</style>\n",
       "<table border=\"1\" class=\"dataframe\">\n",
       "  <thead>\n",
       "    <tr style=\"text-align: right;\">\n",
       "      <th></th>\n",
       "      <th>Unnamed: 0</th>\n",
       "      <th>Country</th>\n",
       "      <th>Region</th>\n",
       "      <th>SDGi</th>\n",
       "      <th>Life Exectancy</th>\n",
       "      <th>HDI</th>\n",
       "      <th>Per Capita GDP</th>\n",
       "      <th>Income Group</th>\n",
       "      <th>Population (millions)</th>\n",
       "      <th>Cropland Footprint</th>\n",
       "      <th>...</th>\n",
       "      <th>Built up land</th>\n",
       "      <th>Total Ecological Footprint (Consumption)</th>\n",
       "      <th>Cropland</th>\n",
       "      <th>Grazing land</th>\n",
       "      <th>Forest land</th>\n",
       "      <th>Fishing ground</th>\n",
       "      <th>Total biocapacity</th>\n",
       "      <th>Ecological (Deficit) or Reserve</th>\n",
       "      <th>Number of Earths required</th>\n",
       "      <th>Number of Countries required</th>\n",
       "    </tr>\n",
       "  </thead>\n",
       "  <tbody>\n",
       "    <tr>\n",
       "      <th>0</th>\n",
       "      <td>0</td>\n",
       "      <td>Afghanistan</td>\n",
       "      <td>Middle East/Central Asia</td>\n",
       "      <td>52.5</td>\n",
       "      <td>62</td>\n",
       "      <td>0.48</td>\n",
       "      <td>NaN</td>\n",
       "      <td>LI</td>\n",
       "      <td>40.8</td>\n",
       "      <td>0.4</td>\n",
       "      <td>...</td>\n",
       "      <td>0.028232</td>\n",
       "      <td>0.8</td>\n",
       "      <td>0.3</td>\n",
       "      <td>0.1</td>\n",
       "      <td>0.012981</td>\n",
       "      <td>0.000565</td>\n",
       "      <td>0.513827</td>\n",
       "      <td>-0.287638</td>\n",
       "      <td>0.530696</td>\n",
       "      <td>1.559795</td>\n",
       "    </tr>\n",
       "    <tr>\n",
       "      <th>1</th>\n",
       "      <td>1</td>\n",
       "      <td>Albania</td>\n",
       "      <td>Other Europe</td>\n",
       "      <td>71.6</td>\n",
       "      <td>76</td>\n",
       "      <td>0.8</td>\n",
       "      <td>$14,889</td>\n",
       "      <td>UM</td>\n",
       "      <td>2.9</td>\n",
       "      <td>0.8</td>\n",
       "      <td>...</td>\n",
       "      <td>0.073006</td>\n",
       "      <td>2.1</td>\n",
       "      <td>0.6</td>\n",
       "      <td>0.2</td>\n",
       "      <td>0.223326</td>\n",
       "      <td>0.081392</td>\n",
       "      <td>1.176752</td>\n",
       "      <td>-0.894486</td>\n",
       "      <td>1.371485</td>\n",
       "      <td>1.760131</td>\n",
       "    </tr>\n",
       "    <tr>\n",
       "      <th>2</th>\n",
       "      <td>2</td>\n",
       "      <td>Algeria</td>\n",
       "      <td>Africa</td>\n",
       "      <td>71.5</td>\n",
       "      <td>76</td>\n",
       "      <td>0.75</td>\n",
       "      <td>$11,137</td>\n",
       "      <td>UM</td>\n",
       "      <td>45.4</td>\n",
       "      <td>0.7</td>\n",
       "      <td>...</td>\n",
       "      <td>0.037775</td>\n",
       "      <td>2.2</td>\n",
       "      <td>0.4</td>\n",
       "      <td>0.2</td>\n",
       "      <td>0.023912</td>\n",
       "      <td>0.007179</td>\n",
       "      <td>0.663375</td>\n",
       "      <td>-1.559593</td>\n",
       "      <td>1.471955</td>\n",
       "      <td>3.350998</td>\n",
       "    </tr>\n",
       "    <tr>\n",
       "      <th>3</th>\n",
       "      <td>3</td>\n",
       "      <td>Angola</td>\n",
       "      <td>Africa</td>\n",
       "      <td>50.9</td>\n",
       "      <td>62</td>\n",
       "      <td>0.59</td>\n",
       "      <td>$6,304</td>\n",
       "      <td>LM</td>\n",
       "      <td>35</td>\n",
       "      <td>0.2</td>\n",
       "      <td>...</td>\n",
       "      <td>0.061360</td>\n",
       "      <td>0.9</td>\n",
       "      <td>0.2</td>\n",
       "      <td>0.8</td>\n",
       "      <td>0.416888</td>\n",
       "      <td>0.153499</td>\n",
       "      <td>1.588191</td>\n",
       "      <td>0.730346</td>\n",
       "      <td>0.568029</td>\n",
       "      <td>0.540140</td>\n",
       "    </tr>\n",
       "    <tr>\n",
       "      <th>4</th>\n",
       "      <td>4</td>\n",
       "      <td>Antigua and Barbuda</td>\n",
       "      <td>Central America/Caribbean</td>\n",
       "      <td>NaN</td>\n",
       "      <td>78</td>\n",
       "      <td>0.79</td>\n",
       "      <td>$18,749</td>\n",
       "      <td>HI</td>\n",
       "      <td>0.1</td>\n",
       "      <td>NaN</td>\n",
       "      <td>...</td>\n",
       "      <td>NaN</td>\n",
       "      <td>2.9</td>\n",
       "      <td>NaN</td>\n",
       "      <td>NaN</td>\n",
       "      <td>NaN</td>\n",
       "      <td>NaN</td>\n",
       "      <td>0.917277</td>\n",
       "      <td>-2.019458</td>\n",
       "      <td>1.944580</td>\n",
       "      <td>3.201578</td>\n",
       "    </tr>\n",
       "  </tbody>\n",
       "</table>\n",
       "<p>5 rows × 24 columns</p>\n",
       "</div>"
      ],
      "text/plain": [
       "   Unnamed: 0              Country                     Region  SDGi  \\\n",
       "0           0          Afghanistan   Middle East/Central Asia  52.5   \n",
       "1           1              Albania               Other Europe  71.6   \n",
       "2           2              Algeria                     Africa  71.5   \n",
       "3           3               Angola                     Africa  50.9   \n",
       "4           4  Antigua and Barbuda  Central America/Caribbean   NaN   \n",
       "\n",
       "  Life Exectancy   HDI Per Capita GDP Income Group Population (millions)  \\\n",
       "0             62  0.48            NaN           LI                  40.8   \n",
       "1             76   0.8       $14,889            UM                   2.9   \n",
       "2             76  0.75       $11,137            UM                  45.4   \n",
       "3             62  0.59        $6,304            LM                    35   \n",
       "4             78  0.79       $18,749            HI                   0.1   \n",
       "\n",
       "   Cropland Footprint  ...  Built up land  \\\n",
       "0                 0.4  ...       0.028232   \n",
       "1                 0.8  ...       0.073006   \n",
       "2                 0.7  ...       0.037775   \n",
       "3                 0.2  ...       0.061360   \n",
       "4                 NaN  ...            NaN   \n",
       "\n",
       "   Total Ecological Footprint (Consumption)  Cropland  Grazing land  \\\n",
       "0                                       0.8       0.3           0.1   \n",
       "1                                       2.1       0.6           0.2   \n",
       "2                                       2.2       0.4           0.2   \n",
       "3                                       0.9       0.2           0.8   \n",
       "4                                       2.9       NaN           NaN   \n",
       "\n",
       "   Forest land  Fishing ground  Total biocapacity   \\\n",
       "0     0.012981        0.000565            0.513827   \n",
       "1     0.223326        0.081392            1.176752   \n",
       "2     0.023912        0.007179            0.663375   \n",
       "3     0.416888        0.153499            1.588191   \n",
       "4          NaN             NaN            0.917277   \n",
       "\n",
       "   Ecological (Deficit) or Reserve  Number of Earths required  \\\n",
       "0                        -0.287638                   0.530696   \n",
       "1                        -0.894486                   1.371485   \n",
       "2                        -1.559593                   1.471955   \n",
       "3                         0.730346                   0.568029   \n",
       "4                        -2.019458                   1.944580   \n",
       "\n",
       "   Number of Countries required  \n",
       "0                      1.559795  \n",
       "1                      1.760131  \n",
       "2                      3.350998  \n",
       "3                      0.540140  \n",
       "4                      3.201578  \n",
       "\n",
       "[5 rows x 24 columns]"
      ]
     },
     "execution_count": 5,
     "metadata": {},
     "output_type": "execute_result"
    }
   ],
   "source": [
    "df.head()"
   ]
  },
  {
   "cell_type": "code",
   "execution_count": 6,
   "id": "02954a70-eaf4-460e-81a1-464f020d8154",
   "metadata": {},
   "outputs": [
    {
     "name": "stdout",
     "output_type": "stream",
     "text": [
      "<class 'pandas.core.frame.DataFrame'>\n",
      "RangeIndex: 182 entries, 0 to 181\n",
      "Data columns (total 24 columns):\n",
      " #   Column                                    Non-Null Count  Dtype  \n",
      "---  ------                                    --------------  -----  \n",
      " 0   Unnamed: 0                                182 non-null    int64  \n",
      " 1   Country                                   182 non-null    object \n",
      " 2   Region                                    182 non-null    object \n",
      " 3   SDGi                                      159 non-null    object \n",
      " 4   Life Exectancy                            176 non-null    object \n",
      " 5   HDI                                       173 non-null    object \n",
      " 6   Per Capita GDP                            165 non-null    object \n",
      " 7   Income Group                              178 non-null    object \n",
      " 8   Population (millions)                     182 non-null    object \n",
      " 9   Cropland Footprint                        152 non-null    float64\n",
      " 10  Grazing Footprint                         152 non-null    float64\n",
      " 11  Forest Product Footprint                  152 non-null    float64\n",
      " 12  Carbon Footprint                          152 non-null    float64\n",
      " 13  Fish Footprint                            152 non-null    float64\n",
      " 14  Built up land                             152 non-null    float64\n",
      " 15  Total Ecological Footprint (Consumption)  181 non-null    float64\n",
      " 16  Cropland                                  152 non-null    float64\n",
      " 17  Grazing land                              152 non-null    float64\n",
      " 18  Forest land                               152 non-null    float64\n",
      " 19  Fishing ground                            152 non-null    float64\n",
      " 20  Total biocapacity                         181 non-null    float64\n",
      " 21  Ecological (Deficit) or Reserve           181 non-null    float64\n",
      " 22  Number of Earths required                 181 non-null    float64\n",
      " 23  Number of Countries required              181 non-null    float64\n",
      "dtypes: float64(15), int64(1), object(8)\n",
      "memory usage: 34.3+ KB\n"
     ]
    }
   ],
   "source": [
    "df.info()"
   ]
  },
  {
   "cell_type": "code",
   "execution_count": 7,
   "id": "a8fb597e-212e-4437-969e-5a7e8057e04f",
   "metadata": {},
   "outputs": [],
   "source": [
    "df = df.dropna()"
   ]
  },
  {
   "cell_type": "code",
   "execution_count": 8,
   "id": "005ef9c1-a90f-462c-985e-3e37c61ea342",
   "metadata": {},
   "outputs": [
    {
     "data": {
      "text/plain": [
       "Unnamed: 0                                  134\n",
       "Country                                     134\n",
       "Region                                      134\n",
       "SDGi                                        134\n",
       "Life Exectancy                              134\n",
       "HDI                                         134\n",
       "Per Capita GDP                              134\n",
       "Income Group                                134\n",
       "Population (millions)                       134\n",
       "Cropland Footprint                          134\n",
       "Grazing Footprint                           134\n",
       "Forest Product Footprint                    134\n",
       "Carbon Footprint                            134\n",
       "Fish Footprint                              134\n",
       "Built up land                               134\n",
       "Total Ecological Footprint (Consumption)    134\n",
       "Cropland                                    134\n",
       "Grazing land                                134\n",
       "Forest land                                 134\n",
       "Fishing ground                              134\n",
       "Total biocapacity                           134\n",
       "Ecological (Deficit) or Reserve             134\n",
       "Number of Earths required                   134\n",
       "Number of Countries required                134\n",
       "dtype: int64"
      ]
     },
     "execution_count": 8,
     "metadata": {},
     "output_type": "execute_result"
    }
   ],
   "source": [
    "df.count()"
   ]
  },
  {
   "cell_type": "code",
   "execution_count": 11,
   "id": "40bc837a-44fe-4f06-8422-fe64de479eba",
   "metadata": {},
   "outputs": [],
   "source": [
    "df = df.drop('Unnamed: 0',axis=1)"
   ]
  },
  {
   "cell_type": "code",
   "execution_count": 31,
   "id": "c48fffb5-7a96-4cf6-8644-ebd58b3ac556",
   "metadata": {},
   "outputs": [
    {
     "data": {
      "text/plain": [
       "40     \n",
       "42     \n",
       "Name: Per Capita GDP, dtype: object"
      ]
     },
     "execution_count": 31,
     "metadata": {},
     "output_type": "execute_result"
    }
   ],
   "source": [
    "df['Per Capita GDP'][df['Per Capita GDP']==' ']"
   ]
  },
  {
   "cell_type": "code",
   "execution_count": 63,
   "id": "4f6ce523-26d8-490e-a4cd-f3a255aee4fa",
   "metadata": {},
   "outputs": [],
   "source": [
    "df = df.drop([40,42,150])"
   ]
  },
  {
   "cell_type": "code",
   "execution_count": 69,
   "id": "423dddcb-6ecb-468f-bfc6-91f8747ec14b",
   "metadata": {},
   "outputs": [],
   "source": [
    "df['Per Capita GDP'] = df['Per Capita GDP'].str.replace('$','').str.replace(',','').astype('float')"
   ]
  },
  {
   "cell_type": "code",
   "execution_count": 70,
   "id": "d15add1c-efc5-44a8-ae1c-b94f98b22127",
   "metadata": {},
   "outputs": [
    {
     "name": "stdout",
     "output_type": "stream",
     "text": [
      "<class 'pandas.core.frame.DataFrame'>\n",
      "Index: 132 entries, 1 to 179\n",
      "Data columns (total 23 columns):\n",
      " #   Column                                    Non-Null Count  Dtype  \n",
      "---  ------                                    --------------  -----  \n",
      " 0   Country                                   132 non-null    object \n",
      " 1   Region                                    132 non-null    object \n",
      " 2   SDGi                                      132 non-null    object \n",
      " 3   Life Exectancy                            132 non-null    object \n",
      " 4   HDI                                       132 non-null    object \n",
      " 5   Per Capita GDP                            132 non-null    float64\n",
      " 6   Income Group                              132 non-null    object \n",
      " 7   Population (millions)                     132 non-null    object \n",
      " 8   Cropland Footprint                        132 non-null    float64\n",
      " 9   Grazing Footprint                         132 non-null    float64\n",
      " 10  Forest Product Footprint                  132 non-null    float64\n",
      " 11  Carbon Footprint                          132 non-null    float64\n",
      " 12  Fish Footprint                            132 non-null    float64\n",
      " 13  Built up land                             132 non-null    float64\n",
      " 14  Total Ecological Footprint (Consumption)  132 non-null    float64\n",
      " 15  Cropland                                  132 non-null    float64\n",
      " 16  Grazing land                              132 non-null    float64\n",
      " 17  Forest land                               132 non-null    float64\n",
      " 18  Fishing ground                            132 non-null    float64\n",
      " 19  Total biocapacity                         132 non-null    float64\n",
      " 20  Ecological (Deficit) or Reserve           132 non-null    float64\n",
      " 21  Number of Earths required                 132 non-null    float64\n",
      " 22  Number of Countries required              132 non-null    float64\n",
      "dtypes: float64(16), object(7)\n",
      "memory usage: 24.8+ KB\n"
     ]
    }
   ],
   "source": [
    "df.info()"
   ]
  },
  {
   "cell_type": "code",
   "execution_count": 71,
   "id": "ff59bd1d-07de-4e82-adbf-d4c3cbb44952",
   "metadata": {},
   "outputs": [
    {
     "data": {
      "text/html": [
       "<div>\n",
       "<style scoped>\n",
       "    .dataframe tbody tr th:only-of-type {\n",
       "        vertical-align: middle;\n",
       "    }\n",
       "\n",
       "    .dataframe tbody tr th {\n",
       "        vertical-align: top;\n",
       "    }\n",
       "\n",
       "    .dataframe thead th {\n",
       "        text-align: right;\n",
       "    }\n",
       "</style>\n",
       "<table border=\"1\" class=\"dataframe\">\n",
       "  <thead>\n",
       "    <tr style=\"text-align: right;\">\n",
       "      <th></th>\n",
       "      <th>Country</th>\n",
       "      <th>Region</th>\n",
       "      <th>SDGi</th>\n",
       "      <th>Life Exectancy</th>\n",
       "      <th>HDI</th>\n",
       "      <th>Per Capita GDP</th>\n",
       "      <th>Income Group</th>\n",
       "      <th>Population (millions)</th>\n",
       "      <th>Cropland Footprint</th>\n",
       "      <th>Grazing Footprint</th>\n",
       "      <th>...</th>\n",
       "      <th>Built up land</th>\n",
       "      <th>Total Ecological Footprint (Consumption)</th>\n",
       "      <th>Cropland</th>\n",
       "      <th>Grazing land</th>\n",
       "      <th>Forest land</th>\n",
       "      <th>Fishing ground</th>\n",
       "      <th>Total biocapacity</th>\n",
       "      <th>Ecological (Deficit) or Reserve</th>\n",
       "      <th>Number of Earths required</th>\n",
       "      <th>Number of Countries required</th>\n",
       "    </tr>\n",
       "  </thead>\n",
       "  <tbody>\n",
       "    <tr>\n",
       "      <th>1</th>\n",
       "      <td>Albania</td>\n",
       "      <td>Other Europe</td>\n",
       "      <td>71.6</td>\n",
       "      <td>76</td>\n",
       "      <td>0.8</td>\n",
       "      <td>14889.0</td>\n",
       "      <td>UM</td>\n",
       "      <td>2.9</td>\n",
       "      <td>0.8</td>\n",
       "      <td>0.2</td>\n",
       "      <td>...</td>\n",
       "      <td>0.073006</td>\n",
       "      <td>2.1</td>\n",
       "      <td>0.6</td>\n",
       "      <td>0.2</td>\n",
       "      <td>0.223326</td>\n",
       "      <td>0.081392</td>\n",
       "      <td>1.176752</td>\n",
       "      <td>-0.894486</td>\n",
       "      <td>1.371485</td>\n",
       "      <td>1.760131</td>\n",
       "    </tr>\n",
       "    <tr>\n",
       "      <th>2</th>\n",
       "      <td>Algeria</td>\n",
       "      <td>Africa</td>\n",
       "      <td>71.5</td>\n",
       "      <td>76</td>\n",
       "      <td>0.75</td>\n",
       "      <td>11137.0</td>\n",
       "      <td>UM</td>\n",
       "      <td>45.4</td>\n",
       "      <td>0.7</td>\n",
       "      <td>0.2</td>\n",
       "      <td>...</td>\n",
       "      <td>0.037775</td>\n",
       "      <td>2.2</td>\n",
       "      <td>0.4</td>\n",
       "      <td>0.2</td>\n",
       "      <td>0.023912</td>\n",
       "      <td>0.007179</td>\n",
       "      <td>0.663375</td>\n",
       "      <td>-1.559593</td>\n",
       "      <td>1.471955</td>\n",
       "      <td>3.350998</td>\n",
       "    </tr>\n",
       "  </tbody>\n",
       "</table>\n",
       "<p>2 rows × 23 columns</p>\n",
       "</div>"
      ],
      "text/plain": [
       "   Country        Region  SDGi Life Exectancy   HDI  Per Capita GDP  \\\n",
       "1  Albania  Other Europe  71.6             76   0.8         14889.0   \n",
       "2  Algeria        Africa  71.5             76  0.75         11137.0   \n",
       "\n",
       "  Income Group Population (millions)  Cropland Footprint  Grazing Footprint  \\\n",
       "1           UM                   2.9                 0.8                0.2   \n",
       "2           UM                  45.4                 0.7                0.2   \n",
       "\n",
       "   ...  Built up land  Total Ecological Footprint (Consumption)  Cropland  \\\n",
       "1  ...       0.073006                                       2.1       0.6   \n",
       "2  ...       0.037775                                       2.2       0.4   \n",
       "\n",
       "   Grazing land  Forest land  Fishing ground  Total biocapacity   \\\n",
       "1           0.2     0.223326        0.081392            1.176752   \n",
       "2           0.2     0.023912        0.007179            0.663375   \n",
       "\n",
       "   Ecological (Deficit) or Reserve  Number of Earths required  \\\n",
       "1                        -0.894486                   1.371485   \n",
       "2                        -1.559593                   1.471955   \n",
       "\n",
       "   Number of Countries required  \n",
       "1                      1.760131  \n",
       "2                      3.350998  \n",
       "\n",
       "[2 rows x 23 columns]"
      ]
     },
     "execution_count": 71,
     "metadata": {},
     "output_type": "execute_result"
    }
   ],
   "source": [
    "df.head(2)"
   ]
  },
  {
   "cell_type": "code",
   "execution_count": 84,
   "id": "907c71b5-e9a4-40a8-8a52-d2d933591023",
   "metadata": {},
   "outputs": [],
   "source": [
    "df.drop(150,inplace=True)"
   ]
  },
  {
   "cell_type": "code",
   "execution_count": 94,
   "id": "a62b27d8-40d9-4503-953e-094d63d7be9e",
   "metadata": {},
   "outputs": [],
   "source": [
    "df['Population (millions)'] = df['Population (millions)'].str.replace(',','').astype('float')"
   ]
  },
  {
   "cell_type": "code",
   "execution_count": 96,
   "id": "6abbde01-c75f-41e6-8ae3-309e86b44ab6",
   "metadata": {},
   "outputs": [],
   "source": [
    "df[['SDGi','HDI','Cropland Footprint']] = df[['SDGi','HDI','Cropland Footprint']].astype('float')"
   ]
  },
  {
   "cell_type": "code",
   "execution_count": 100,
   "id": "45c22b2f-b866-4c66-aa29-6d680bfb3d66",
   "metadata": {},
   "outputs": [],
   "source": [
    "df['Life Exectancy'] = df['Life Exectancy'].astype('int')"
   ]
  },
  {
   "cell_type": "code",
   "execution_count": 101,
   "id": "b89146e4-1c15-498c-b261-2153c8dcfe9b",
   "metadata": {},
   "outputs": [
    {
     "name": "stdout",
     "output_type": "stream",
     "text": [
      "<class 'pandas.core.frame.DataFrame'>\n",
      "Index: 131 entries, 1 to 179\n",
      "Data columns (total 23 columns):\n",
      " #   Column                                    Non-Null Count  Dtype  \n",
      "---  ------                                    --------------  -----  \n",
      " 0   Country                                   131 non-null    object \n",
      " 1   Region                                    131 non-null    object \n",
      " 2   SDGi                                      131 non-null    float64\n",
      " 3   Life Exectancy                            131 non-null    int32  \n",
      " 4   HDI                                       131 non-null    float64\n",
      " 5   Per Capita GDP                            131 non-null    float64\n",
      " 6   Income Group                              131 non-null    object \n",
      " 7   Population (millions)                     131 non-null    float64\n",
      " 8   Cropland Footprint                        131 non-null    float64\n",
      " 9   Grazing Footprint                         131 non-null    float64\n",
      " 10  Forest Product Footprint                  131 non-null    float64\n",
      " 11  Carbon Footprint                          131 non-null    float64\n",
      " 12  Fish Footprint                            131 non-null    float64\n",
      " 13  Built up land                             131 non-null    float64\n",
      " 14  Total Ecological Footprint (Consumption)  131 non-null    float64\n",
      " 15  Cropland                                  131 non-null    float64\n",
      " 16  Grazing land                              131 non-null    float64\n",
      " 17  Forest land                               131 non-null    float64\n",
      " 18  Fishing ground                            131 non-null    float64\n",
      " 19  Total biocapacity                         131 non-null    float64\n",
      " 20  Ecological (Deficit) or Reserve           131 non-null    float64\n",
      " 21  Number of Earths required                 131 non-null    float64\n",
      " 22  Number of Countries required              131 non-null    float64\n",
      "dtypes: float64(19), int32(1), object(3)\n",
      "memory usage: 24.1+ KB\n"
     ]
    }
   ],
   "source": [
    "df.info()"
   ]
  },
  {
   "cell_type": "code",
   "execution_count": 110,
   "id": "4767d8d8-e589-42c1-9f3b-2d5700b19b3a",
   "metadata": {},
   "outputs": [
    {
     "data": {
      "image/png": "[encoded data removed]",
      "text/plain": [
       "<Figure size 640x480 with 1 Axes>"
      ]
     },
     "metadata": {},
     "output_type": "display_data"
    }
   ],
   "source": [
    "df.sort_values('Per Capita GDP',ascending=False)[:10].plot.bar('Country','Per Capita GDP', title='Top 10 Countries Per Capita GDP');"
   ]
  }
 ],
 "metadata": {
  "kernelspec": {
   "display_name": "Python 3 (ipykernel)",
   "language": "python",
   "name": "python3"
  },
  "language_info": {
   "codemirror_mode": {
    "name": "ipython",
    "version": 3
   },
   "file_extension": ".py",
   "mimetype": "text/x-python",
   "name": "python",
   "nbconvert_exporter": "python",
   "pygments_lexer": "ipython3",
   "version": "3.11.7"
  }
 },
 "nbformat": 4,
 "nbformat_minor": 5
}
